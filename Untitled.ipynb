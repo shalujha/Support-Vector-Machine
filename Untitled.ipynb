{
 "cells": [
  {
   "cell_type": "code",
   "execution_count": 213,
   "metadata": {},
   "outputs": [],
   "source": [
    "import numpy as np\n",
    "from keras.preprocessing import image\n",
    "from matplotlib import pyplot as plt\n",
    "import os\n",
    "from pathlib import Path"
   ]
  },
  {
   "cell_type": "code",
   "execution_count": 214,
   "metadata": {},
   "outputs": [
    {
     "name": "stdout",
     "output_type": "stream",
     "text": [
      "..\\SVM\\pokemon_images\n",
      "<class 'pathlib.WindowsPath'>\n"
     ]
    }
   ],
   "source": [
    "p=Path(\"..//SVM//pokemon_images//\")\n",
    "print(p)\n",
    "print(type(p))"
   ]
  },
  {
   "cell_type": "code",
   "execution_count": 215,
   "metadata": {},
   "outputs": [],
   "source": [
    "label=[]\n",
    "labels=[]\n",
    "label_dict={\"Pikachu\":0,\"Bulbasaur\":1,\"Charmander\":2}\n",
    "img_data=[]"
   ]
  },
  {
   "cell_type": "code",
   "execution_count": 216,
   "metadata": {},
   "outputs": [],
   "source": [
    "import pandas as pd"
   ]
  },
  {
   "cell_type": "code",
   "execution_count": 217,
   "metadata": {},
   "outputs": [],
   "source": [
    "df=pd.read_csv('train.csv')"
   ]
  },
  {
   "cell_type": "code",
   "execution_count": 218,
   "metadata": {},
   "outputs": [
    {
     "name": "stdout",
     "output_type": "stream",
     "text": [
      "   ImageId NameOfPokemon\n",
      "0  296.jpg       Pikachu\n",
      "1  297.jpg       Pikachu\n",
      "2  298.jpg       Pikachu\n",
      "3  299.jpg       Pikachu\n",
      "4  300.jpg       Pikachu\n"
     ]
    }
   ],
   "source": [
    "print(df.head())"
   ]
  },
  {
   "cell_type": "code",
   "execution_count": 219,
   "metadata": {},
   "outputs": [
    {
     "name": "stdout",
     "output_type": "stream",
     "text": [
      "(304, 2)\n"
     ]
    }
   ],
   "source": [
    "df=df.values\n",
    "print(df.shape)"
   ]
  },
  {
   "cell_type": "code",
   "execution_count": 220,
   "metadata": {},
   "outputs": [],
   "source": [
    "Y=df[:,-1] # labels"
   ]
  },
  {
   "cell_type": "code",
   "execution_count": 221,
   "metadata": {},
   "outputs": [],
   "source": [
    "# lets Prepare the labels:\n",
    "for i in range(Y.shape[0]):\n",
    "    Y[i]=label_dict[Y[i]]"
   ]
  },
  {
   "cell_type": "code",
   "execution_count": 222,
   "metadata": {},
   "outputs": [
    {
     "name": "stdout",
     "output_type": "stream",
     "text": [
      "(304,)\n"
     ]
    }
   ],
   "source": [
    "print(Y.shape)"
   ]
  },
  {
   "cell_type": "code",
   "execution_count": 223,
   "metadata": {},
   "outputs": [],
   "source": [
    "dirs=p.glob(\"*\")"
   ]
  },
  {
   "cell_type": "code",
   "execution_count": 224,
   "metadata": {},
   "outputs": [],
   "source": [
    "count=0\n",
    "for img_path in dirs:\n",
    "       # print(type(img_path))\n",
    "        img=image.load_img(img_path,target_size=(100,100))\n",
    "        img_array=image.img_to_array(img)\n",
    "        img_data.append(img_array)\n",
    "        count+=1"
   ]
  },
  {
   "cell_type": "code",
   "execution_count": 225,
   "metadata": {},
   "outputs": [
    {
     "name": "stdout",
     "output_type": "stream",
     "text": [
      "(304, 100, 100, 3)\n"
     ]
    }
   ],
   "source": [
    "img_data=np.array(img_data)\n",
    "print(img_data.shape)"
   ]
  },
  {
   "cell_type": "code",
   "execution_count": 226,
   "metadata": {},
   "outputs": [
    {
     "name": "stdout",
     "output_type": "stream",
     "text": [
      "304\n"
     ]
    }
   ],
   "source": [
    "print(count)"
   ]
  },
  {
   "cell_type": "code",
   "execution_count": 227,
   "metadata": {},
   "outputs": [],
   "source": [
    "label_dictionary={0:\"Pikachu\",1:\"Bulbasaur\",2:\"Charmander\"}\n",
    "def drawImg(img,label):\n",
    "    plt.imshow(img)\n",
    "    plt.axis('off')\n",
    "    plt.title(label_dictionary[label])\n",
    "    plt.show()"
   ]
  },
  {
   "cell_type": "code",
   "execution_count": 228,
   "metadata": {},
   "outputs": [
    {
     "data": {
      "image/png": "[encoded data removed]",
      "text/plain": [
       "<Figure size 432x288 with 1 Axes>"
      ]
     },
     "metadata": {
      "needs_background": "light"
     },
     "output_type": "display_data"
    }
   ],
   "source": [
    "drawImg(img_data[0]/255.0,Y[0])"
   ]
  },
  {
   "cell_type": "markdown",
   "metadata": {},
   "source": [
    "# SVM Classifier"
   ]
  },
  {
   "cell_type": "code",
   "execution_count": 229,
   "metadata": {},
   "outputs": [],
   "source": [
    "class SVM:\n",
    "    def __init__(self,c=1.0):\n",
    "        self.c=c\n",
    "        self.w=0\n",
    "        self.b=0\n",
    "    def hinge_loss(self,w,b,X,Y):\n",
    "        loss=0.0\n",
    "        loss+=0.5*(np.dot(w,w.T))\n",
    "        m=X.shape[0]\n",
    "        for i in range(m):\n",
    "            ti=Y[i]*(np.dot(w,X[i].T)+b)\n",
    "            loss+=(self.c*max(0,(1-ti)))\n",
    "        return loss[0][0]\n",
    "    def fit(self,X,Y,learning_rate=0.001,batch_size=100,max_itr=500):\n",
    "        n_features=X.shape[1]\n",
    "        samples=X.shape[0]\n",
    "        n=learning_rate\n",
    "        c=self.c\n",
    "        losses=[]\n",
    "        w=np.zeros((1,n_features))\n",
    "        b=0\n",
    "        for i in range(max_itr):\n",
    "            l=self.hinge_loss(w,b,X,Y)\n",
    "            losses.append(l)\n",
    "            ids=np.arange(samples)\n",
    "            np.random.shuffle(ids)\n",
    "            for batch_start in range(0,samples,batch_size):\n",
    "                grad_b=0\n",
    "                grad_w=0\n",
    "                for j in range(batch_start,batch_start+batch_size):\n",
    "                    if j<samples:\n",
    "                        val=ids[j]\n",
    "                        ti=Y[val]*(np.dot(w,X[val].T)+b)\n",
    "                        if ti>1:\n",
    "                            grad_w+=0\n",
    "                            grad_b+=0\n",
    "                        else:\n",
    "                            grad_w+=(self.c*Y[val]*X[val])\n",
    "                            grad_b+=(self.c*Y[val])\n",
    "                w=w-n*w+n*grad_w\n",
    "                b=b+n*grad_b\n",
    "            self.w=w\n",
    "            self.b=b\n",
    "        return (w,b,losses)"
   ]
  },
  {
   "cell_type": "code",
   "execution_count": 230,
   "metadata": {},
   "outputs": [],
   "source": [
    "img_data=img_data.reshape((img_data.shape[0],-1))\n",
    "mysvm=SVM()\n",
    "w,b,losses=mysvm.fit(img_data,Y)"
   ]
  },
  {
   "cell_type": "code",
   "execution_count": 231,
   "metadata": {},
   "outputs": [
    {
     "data": {
      "image/png": "[encoded data removed]",
      "text/plain": [
       "<Figure size 432x288 with 1 Axes>"
      ]
     },
     "metadata": {
      "needs_background": "light"
     },
     "output_type": "display_data"
    }
   ],
   "source": [
    "plt.plot(losses)\n",
    "plt.show()"
   ]
  },
  {
   "cell_type": "code",
   "execution_count": 232,
   "metadata": {},
   "outputs": [
    {
     "name": "stdout",
     "output_type": "stream",
     "text": [
      "3\n"
     ]
    }
   ],
   "source": [
    "classes=len(np.unique(Y))\n",
    "print(classes)"
   ]
  },
  {
   "cell_type": "code",
   "execution_count": 233,
   "metadata": {},
   "outputs": [],
   "source": [
    "def classWiseData(x,y):\n",
    "    data={}\n",
    "    for i in range(classes):\n",
    "        data[i]=[]\n",
    "    for i in range(x.shape[0]):\n",
    "        data[y[i]].append(x[i])\n",
    "    for k in data.keys():\n",
    "        data[k]=np.array(data[k])\n",
    "    return data"
   ]
  },
  {
   "cell_type": "code",
   "execution_count": 234,
   "metadata": {},
   "outputs": [],
   "source": [
    "data=classWiseData(img_data,Y)"
   ]
  },
  {
   "cell_type": "code",
   "execution_count": 235,
   "metadata": {},
   "outputs": [],
   "source": [
    "def getDataPairForSvm(d1,d2):\n",
    "    l1,l2=d1.shape[0],d2.shape[0]\n",
    "    features=d1.shape[1]\n",
    "    sample=l1+l2\n",
    "    data_pair=np.zeros((sample,features))\n",
    "    labels=np.zeros((sample,))\n",
    "    data_pair[:l1,:]=d1\n",
    "    data_pair[l1:,:]=d2\n",
    "    labels[:l1]=-1\n",
    "    labels[l1:]=1\n",
    "    return (data_pair,labels)"
   ]
  },
  {
   "cell_type": "code",
   "execution_count": 236,
   "metadata": {},
   "outputs": [],
   "source": [
    "mysvm=SVM()"
   ]
  },
  {
   "cell_type": "code",
   "execution_count": 237,
   "metadata": {},
   "outputs": [],
   "source": [
    "def trainSvm(x,y):\n",
    "    svm_classifiers={}\n",
    "    for i in range(classes):\n",
    "        svm_classifiers[i]={}\n",
    "        for j in range(i+1,classes):\n",
    "            x_pair,y_pair=getDataPairForSvm(data[i],data[j])\n",
    "            w,b,losses=mysvm.fit(x_pair,y_pair)\n",
    "            svm_classifiers[i][j]=(w,b)\n",
    "    return svm_classifiers       "
   ]
  },
  {
   "cell_type": "code",
   "execution_count": 238,
   "metadata": {},
   "outputs": [],
   "source": [
    "svm_classifiers=trainSvm(img_data,Y)"
   ]
  },
  {
   "cell_type": "code",
   "execution_count": 239,
   "metadata": {},
   "outputs": [
    {
     "name": "stdout",
     "output_type": "stream",
     "text": [
      "<class 'dict'>\n"
     ]
    }
   ],
   "source": [
    "print(type(svm_classifiers))"
   ]
  },
  {
   "cell_type": "code",
   "execution_count": 240,
   "metadata": {},
   "outputs": [],
   "source": [
    "def binary_prediction(x,w,b):\n",
    "    z=np.dot(x,w.T)+b\n",
    "    if z>=0:\n",
    "        return 1\n",
    "    else:\n",
    "        return -1"
   ]
  },
  {
   "cell_type": "code",
   "execution_count": 241,
   "metadata": {},
   "outputs": [],
   "source": [
    "def predict(x):\n",
    "    count=np.zeros((classes,))\n",
    "    for i in range(classes):\n",
    "        for j in range(i+1,classes):\n",
    "            w,b=svm_classifiers[i][j]\n",
    "            z=binary_prediction(x,w,b)\n",
    "            if z==-1:\n",
    "                count[i]+=1\n",
    "            else:\n",
    "                count[j]+=1\n",
    "    final_prediction=np.argmax(count)\n",
    "    return label_dictionary[final_prediction]    "
   ]
  },
  {
   "cell_type": "code",
   "execution_count": 242,
   "metadata": {},
   "outputs": [
    {
     "data": {
      "text/plain": [
       "'Pikachu'"
      ]
     },
     "execution_count": 242,
     "metadata": {},
     "output_type": "execute_result"
    }
   ],
   "source": [
    "predict(img_data[0])"
   ]
  },
  {
   "cell_type": "markdown",
   "metadata": {},
   "source": [
    "# Testing"
   ]
  },
  {
   "cell_type": "code",
   "execution_count": 243,
   "metadata": {},
   "outputs": [],
   "source": [
    "df_test=pd.read_csv(\"test.csv\")\n",
    "df_test=df_test.values\n",
    "predictions=[]"
   ]
  },
  {
   "cell_type": "code",
   "execution_count": 246,
   "metadata": {},
   "outputs": [],
   "source": [
    "for i in df_test:\n",
    "    img_path =\"../SVM/pokemon_test_data/images/\"+i\n",
    "    img_path=Path(*img_path)\n",
    "    img=image.load_img(img_path,target_size=(100,100))\n",
    "    img_array=image.img_to_array(img)\n",
    "    img_array=img_array.reshape(1,-1)\n",
    "    predictions.append(predict(img_array))"
   ]
  },
  {
   "cell_type": "code",
   "execution_count": 248,
   "metadata": {},
   "outputs": [
    {
     "name": "stdout",
     "output_type": "stream",
     "text": [
      "123\n"
     ]
    }
   ],
   "source": [
    "print(len(predictions))"
   ]
  },
  {
   "cell_type": "markdown",
   "metadata": {},
   "source": [
    "# Result"
   ]
  },
  {
   "cell_type": "code",
   "execution_count": 252,
   "metadata": {},
   "outputs": [],
   "source": [
    "df_test=df_test.reshape((df_test.shape[0],))\n",
    "result=np.stack((df_test,predictions),axis=1)"
   ]
  },
  {
   "cell_type": "code",
   "execution_count": 254,
   "metadata": {},
   "outputs": [],
   "source": [
    "result_df=pd.DataFrame(result,columns=[\"ImageId\",\"NameOfPokemons\"])"
   ]
  },
  {
   "cell_type": "code",
   "execution_count": 255,
   "metadata": {},
   "outputs": [],
   "source": [
    "result_df.to_csv(\"result.csv\",index=False)"
   ]
  },
  {
   "cell_type": "code",
   "execution_count": null,
   "metadata": {},
   "outputs": [],
   "source": []
  }
 ],
 "metadata": {
  "kernelspec": {
   "display_name": "Python 3",
   "language": "python",
   "name": "python3"
  },
  "language_info": {
   "codemirror_mode": {
    "name": "ipython",
    "version": 3
   },
   "file_extension": ".py",
   "mimetype": "text/x-python",
   "name": "python",
   "nbconvert_exporter": "python",
   "pygments_lexer": "ipython3",
   "version": "3.6.8"
  }
 },
 "nbformat": 4,
 "nbformat_minor": 2
}
